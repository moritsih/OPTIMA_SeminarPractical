{
 "cells": [
  {
   "cell_type": "code",
   "execution_count": 1,
   "metadata": {},
   "outputs": [
    {
     "name": "stderr",
     "output_type": "stream",
     "text": [
      "Seed set to 99\n"
     ]
    },
    {
     "data": {
      "text/plain": [
       "99"
      ]
     },
     "execution_count": 1,
     "metadata": {},
     "output_type": "execute_result"
    }
   ],
   "source": [
    "\n",
    "import torch\n",
    "import torch.optim as optim\n",
    "import torch\n",
    "from torch.utils.data import DataLoader\n",
    "import pandas as pd\n",
    "\n",
    "import segmentation_models_pytorch as smp\n",
    "\n",
    "import lightning as L\n",
    "from lightning.pytorch import Trainer, seed_everything\n",
    "from lightning.pytorch.loggers import WandbLogger\n",
    "from lightning.pytorch.callbacks import ModelCheckpoint, EarlyStopping, LearningRateMonitor\n",
    "import torchmetrics as tm\n",
    "\n",
    "from config import Config\n",
    "from dataset import *\n",
    "from utils import DiceCELossSplitter, plot_img_label_pred, AggregateTestingResultsCallback\n",
    "from transforms import ImageVisualizer\n",
    "import wandb\n",
    "\n",
    "import monai\n",
    "from monai.transforms import *\n",
    "\n",
    "from tabulate import tabulate\n",
    "import matplotlib.pyplot as plt\n",
    "\n",
    "seed_everything(99, workers=True)\n"
   ]
  },
  {
   "cell_type": "code",
   "execution_count": 2,
   "metadata": {},
   "outputs": [],
   "source": [
    "# globally set source domains for SVDNA and for dataset preppning\n",
    "cfg = Config(source_domains = [\"Spectralis\", \"Topcon\", \"Cirrus\"])\n",
    "cfg.batch_size = 1\n",
    "cfg.epochs = 100"
   ]
  },
  {
   "cell_type": "markdown",
   "metadata": {},
   "source": [
    "To change experimental setting, check the following:\n",
    "\n",
    "- source domains in the OCTDatasetPrep class\n",
    "- Turn on SVDNA in the config file"
   ]
  },
  {
   "cell_type": "code",
   "execution_count": 6,
   "metadata": {},
   "outputs": [
    {
     "name": "stdout",
     "output_type": "stream",
     "text": [
      "Total dataset length:  2408\n",
      "Training set: 240\n",
      "Validation set: 481\n",
      "Test set: 1687\n"
     ]
    }
   ],
   "source": [
    "train_data, val_data, test_data = OCTDatasetPrep(cfg.train_dir,\n",
    "                                                 source_domains = cfg.source_domains\n",
    "                                                ).get_datasets(dataset_split=[0.1, 0.2, 0.1], use_official_testset=False)\n",
    "\n",
    "train_dataset = MakeDataset(train_data, cfg.train_transforms)\n",
    "val_dataset = MakeDataset(val_data, cfg.val_transforms)\n",
    "test_dataset = MakeDataset(test_data, cfg.test_transforms)\n",
    "\n",
    "train_loader = DataLoader(train_dataset, batch_size=cfg.batch_size, shuffle=True, num_workers=7, persistent_workers=True)\n",
    "val_loader = DataLoader(val_dataset, batch_size=cfg.batch_size, shuffle=False, num_workers=7, persistent_workers=True)\n",
    "test_loader = DataLoader(test_dataset, batch_size=cfg.batch_size, shuffle=False, num_workers=7, persistent_workers=True)\n"
   ]
  },
  {
   "cell_type": "code",
   "execution_count": null,
   "metadata": {},
   "outputs": [
    {
     "name": "stdout",
     "output_type": "stream",
     "text": [
      "metatensor([0.8773, 0.5543, 0.5208]) metatensor([0.0933, 0.0742, 0.0720])\n"
     ]
    }
   ],
   "source": [
    "means = torch.zeros(3)\n",
    "stds = torch.zeros(3)\n",
    "for sample in train_loader:\n",
    "    label = sample['masks'][0, 1:, :, :]\n",
    "\n",
    "    # take average of each channel separately\n",
    "    mean_pixels = label.mean(dim=[1, 2])\n",
    "    std_pixels = label.std(dim=[1, 2])\n",
    "\n",
    "    means += mean_pixels\n",
    "    stds += std_pixels\n",
    "\n",
    "means /= len(train_loader)\n",
    "stds /= len(train_loader)\n",
    "\n",
    "print(means*100, stds)"
   ]
  },
  {
   "cell_type": "code",
   "execution_count": null,
   "metadata": {},
   "outputs": [],
   "source": [
    "for sample in train_loader:\n",
    "    label = sample['masks'][0, 1:, :, :]\n",
    "    "
   ]
  },
  {
   "cell_type": "code",
   "execution_count": null,
   "metadata": {},
   "outputs": [],
   "source": [
    "\n",
    "# go through the entire training dataset, always ignoring channel 0, and collect some statistics.\n",
    "# the image masks have the properties that the pixels are either 0 or 1 and pixels == 1 are much less than pixels == 0\n",
    "# 1. how many images have more than 1% of pixels == 1 in the masks channels 1, 2 or 3\n",
    "# 2. in the channels 1, 2 or 3, what is the average percentage of pixels == 1\n",
    "# 3. what is the average percentage of pixels == 1 in the entire mask\n",
    "# 4. all positive ( == 1) pixels in the first channel divided by all positive pixels in channels 1, 2 and 3.\n",
    "\n",
    "@torch.no_grad()\n",
    "def calculate_statistics(loader):\n",
    "    total_images = 0\n",
    "    images_with_more_than_1_percent = 0\n",
    "    total_percentage_in_channels_123 = 0\n",
    "    total_percentage_in_all_channels = 0\n",
    "    total_positive_in_channel_1 = 0\n",
    "    total_positive_in_channels_123 = 0\n",
    "\n",
    "    for images, masks in loader:\n",
    "        total_images += images.shape[0]\n",
    "\n",
    "        images = images.cpu()\n",
    "        masks = masks.cpu()\n",
    "\n",
    "        # Calculate the percentage of positive pixels in each mask\n",
    "        percentages = masks.mean(dim=[2, 3])  # Shape: (batch_size, num_channels)\n",
    "\n",
    "        # Calculate the number of images with more than 1% of positive pixels in channels 1, 2, or 3\n",
    "        images_with_more_than_1_percent += (percentages[:, 1:] > 0.01).any(dim=1).sum().item()\n",
    "\n",
    "        # Calculate the average percentage of positive pixels in channels 1, 2, and 3\n",
    "        total_percentage_in_channels_123 += percentages[:, 1:].mean().item()\n",
    "\n",
    "        # Calculate the average percentage of positive pixels in all channels\n",
    "        total_percentage_in_all_channels += percentages.mean().item()\n",
    "\n",
    "        # Calculate the total number of positive pixels in channel 1 and channels 1, 2, and 3\n",
    "        total_positive_in_channel_1 += masks[:, 1].sum().item()\n",
    "        total_positive_in_channels_123 += masks[:, 1:].sum().item()\n",
    "\n",
    "    # Calculate the average percentages\n",
    "    average_percentage_in_channels_123 = total_percentage_in_channels_123 / total_images\n",
    "    average_percentage_in_all_channels = total_percentage_in_all_channels / total_images\n",
    "\n",
    "    # Calculate the ratio of positive pixels in channel 1 to positive pixels in channels 1, 2, and 3\n",
    "    ratio = total_positive_in_channel_1 / total_positive_in_channels_123\n",
    "\n",
    "    return {\n",
    "        \"Total images\": total_images,\n",
    "        \"Images with more than 1% of positive pixels in channels 1, 2, or 3\": images_with_more_than_1_percent,\n",
    "        \"Average percentage of positive pixels in channels 1, 2, or 3\": average_percentage_in_channels_123,\n",
    "        \"Average percentage of positive pixels in all channels\": average_percentage_in_all_channels,\n",
    "        \"Ratio of positive pixels in channel 1 to positive pixels in channels 1, 2, and 3\": ratio,\n",
    "    }\n",
    "\n",
    "statistics = calculate_statistics(train_loader)\n",
    "for key, value in statistics.items():\n",
    "    print(f\"{key}: {value}\")"
   ]
  },
  {
   "cell_type": "code",
   "execution_count": 12,
   "metadata": {},
   "outputs": [
    {
     "data": {
      "image/png": "[encoded data removed]",
      "text/plain": [
       "<Figure size 1000x500 with 2 Axes>"
      ]
     },
     "metadata": {},
     "output_type": "display_data"
    }
   ],
   "source": [
    "# randomly sample image\n",
    "random_num = torch.randint(0, len(train_dataset), (1, ))\n",
    "sample = train_dataset[random_num.item()]\n",
    "\n",
    "img = sample['img']\n",
    "mask = sample['masks']\n",
    "\n",
    "#visualize images in subplots\n",
    "fig, ax = plt.subplots(1, 2, figsize=(10, 5))\n",
    "ax[0].imshow(img[0], cmap='gray')\n",
    "ax[1].imshow(mask[1:].permute(1, 2, 0))\n",
    "plt.show()"
   ]
  },
  {
   "cell_type": "code",
   "execution_count": null,
   "metadata": {},
   "outputs": [],
   "source": []
  },
  {
   "cell_type": "code",
   "execution_count": 17,
   "metadata": {},
   "outputs": [],
   "source": [
    "from lightning.pytorch.plugins.environments import SLURMEnvironment\n",
    "SLURMEnvironment.detect = lambda: False"
   ]
  },
  {
   "cell_type": "code",
   "execution_count": 19,
   "metadata": {},
   "outputs": [
    {
     "name": "stderr",
     "output_type": "stream",
     "text": [
      "/home/moritz/miniconda3/envs/optima/lib/python3.10/site-packages/lightning/pytorch/utilities/parsing.py:199: Attribute 'model' is an instance of `nn.Module` and is already saved during checkpointing. It is recommended to ignore them using `self.save_hyperparameters(ignore=['model'])`.\n",
      "GPU available: True (cuda), used: True\n",
      "TPU available: False, using: 0 TPU cores\n",
      "IPU available: False, using: 0 IPUs\n",
      "HPU available: False, using: 0 HPUs\n"
     ]
    }
   ],
   "source": [
    "class LitUNetPlusPlus(L.LightningModule):\n",
    "    def __init__(self, cfg, model, experiment_name):\n",
    "        super().__init__()\n",
    "        self.cfg = cfg\n",
    "\n",
    "        self.save_hyperparameters()\n",
    "        self.model = model\n",
    "        self.experiment_name = experiment_name\n",
    "\n",
    "        #self.loss_func = DiceCELossSplitter(include_background=False, sigmoid=True, lambda_ce=0.5)\n",
    "        \n",
    "        self.loss_func1 = monai.losses.GeneralizedDiceLoss(include_background=False, sigmoid=True)\n",
    "        self.loss_func2 = torch.nn.BCEWithLogitsLoss()\n",
    "\n",
    "        # several metrics\n",
    "        avg = 'weighted' # weighted: calculates statistics for each label and computes weighted average using their support\n",
    "        num_classes = 2\n",
    "        task = 'binary'\n",
    "\n",
    "        # validation\n",
    "        self.val_accuracy = tm.classification.Accuracy(task=task, num_classes=num_classes)\n",
    "        self.val_f1 = tm.classification.F1Score(task=task, num_classes=num_classes)\n",
    "        self.val_precision = tm.classification.Precision(task=task, average=avg, num_classes=num_classes)\n",
    "        self.val_recall = tm.classification.Recall(task=task, average=avg, num_classes=num_classes)\n",
    "        self.val_specificity = tm.classification.Specificity(task=task, average=avg, num_classes=num_classes)\n",
    "\n",
    "        # test\n",
    "        self.test_accuracy = tm.classification.Accuracy(task=task, num_classes=num_classes)\n",
    "        self.test_f1 = tm.classification.F1Score(task=task, num_classes=num_classes)\n",
    "        self.test_precision = tm.classification.Precision(task=task, average=avg, num_classes=num_classes)\n",
    "        self.test_recall = tm.classification.Recall(task=task, average=avg, num_classes=num_classes)\n",
    "        self.test_specificity = tm.classification.Specificity(task=task, average=avg, num_classes=num_classes)\n",
    "\n",
    "\n",
    "        self.results = {\"Model\": [], \n",
    "                        \"Condition\": [], \n",
    "                        \"Accuracy\": [], \n",
    "                        \"F1\": [], \n",
    "                        \"Precision\": [], \n",
    "                        \"Recall\": [], \n",
    "                        \"Specificity\": []}\n",
    "        \n",
    "        self.conditions = [\"Background\", \"IRF\", \"SRD\", \"PED\"]\n",
    "\n",
    "    def training_step(self, batch, batch_idx):\n",
    "        inputs = batch['img'].to(self.cfg.device)\n",
    "        #labels = sample['label'].to(device)\n",
    "        masks = batch['masks'].to(self.cfg.device)\n",
    "\n",
    "        outputs = self.model(inputs)\n",
    "\n",
    "        dice_loss = self.loss_func1(outputs, masks)\n",
    "        ce_loss = self.loss_func2(outputs, masks)\n",
    "        total_loss = dice_loss + 0.5 * ce_loss\n",
    "        #dice_loss, ce_loss, total_loss = self.loss_func(outputs, masks)\n",
    "\n",
    "        #print(f\"Total loss: {total_loss.item()} | Dice loss: {dice_loss.item()} | CE loss: {ce_loss.item()}\")\n",
    "\n",
    "        self.log('train_loss_dice', dice_loss.item())\n",
    "        self.log('train_loss_ce', ce_loss.item())\n",
    "        self.log('train_loss_total', total_loss.item())\n",
    "\n",
    "        return total_loss\n",
    "    \n",
    "    def validation_step(self, batch, batch_idx):\n",
    "        inputs = batch['img'].to(self.cfg.device)\n",
    "        #labels = sample['label'].to(device)\n",
    "        masks = batch['masks'].to(self.cfg.device)\n",
    "\n",
    "        outputs = self.model(inputs)\n",
    "\n",
    "        dice = self.loss_func1(outputs, masks)\n",
    "        ce = self.loss_func2(outputs, masks)\n",
    "        total_loss = dice + 0.5 * ce\n",
    "\n",
    "        # try splitting losses\n",
    "        #dice, ce, total_loss = self.loss_func(outputs, masks)\n",
    "\n",
    "        output_to_save = torch.sigmoid(outputs[:5])\n",
    "\n",
    "        # thresholding\n",
    "        output_to_save[output_to_save > 0.5] = 1\n",
    "        output_to_save[output_to_save <= 0.5] = 0\n",
    "\n",
    "        for i in range(output_to_save.shape[0]):\n",
    "            img_path = os.path.join(cfg.validation_img_path, f\"epoch{self.current_epoch}\", f\"b{batch_idx}img{i+1}.png\")\n",
    "            cv2.imwrite(img_path, output_to_save[i, 1:, :, :].permute(1, 2, 0).cpu().numpy() * 255)\n",
    "\n",
    "        self.log('val_loss_total', total_loss)\n",
    "        self.log('val_loss_dice', dice)\n",
    "        self.log('val_loss_ce', ce)\n",
    "\n",
    "        self.log('val_accuracy', self.val_accuracy(outputs, masks.long()))\n",
    "        self.log('val_f1', self.val_f1(outputs, masks.long()))\n",
    "        self.log('val_precision', self.val_precision(outputs, masks.long()))\n",
    "        self.log('val_recall', self.val_recall(outputs, masks.long()))\n",
    "        self.log('val_specificity', self.val_specificity(outputs, masks.long()))\n",
    "\n",
    "        return total_loss\n",
    "    \n",
    "    def test_step(self, batch, batch_idx):\n",
    "        inputs = batch['img'].to(self.cfg.device)\n",
    "        #labels = sample['label'].to(device)\n",
    "        masks = batch['masks'].to(self.cfg.device)\n",
    "\n",
    "        outputs = self.model(inputs)\n",
    "        #loss = self.loss_func(outputs, masks)\n",
    "        # try splitting losses\n",
    "        #dice, ce, total_loss = self.loss_func(outputs, masks)\n",
    "\n",
    "        dice = self.loss_func1(outputs, masks)\n",
    "        ce = self.loss_func2(outputs, masks)\n",
    "        total_loss = dice + 0.5 * ce\n",
    "\n",
    "        torch.sigmoid_(outputs)\n",
    "\n",
    "        self.log('test_loss_total', total_loss)\n",
    "        self.log('test_loss_dice', dice)\n",
    "        self.log('test_loss_ce', ce)\n",
    "\n",
    "        # calculate metrics for each channel and record separately in pandas df\n",
    "\n",
    "        for channel in range(outputs.shape[1]):\n",
    "\n",
    "            outputs_channel = outputs[:, channel, :, :]\n",
    "            masks_channel = masks[:, channel, :, :]\n",
    "\n",
    "            accuracy = self.test_accuracy(outputs_channel, masks_channel)\n",
    "            f1 = self.test_f1(outputs_channel, masks_channel)\n",
    "            precision = self.test_precision(outputs_channel, masks_channel)\n",
    "            recall = self.test_recall(outputs_channel, masks_channel)\n",
    "            specificity = self.test_specificity(outputs_channel, masks_channel)\n",
    "\n",
    "            self.results[\"Model\"].append(self.experiment_name)\n",
    "            self.results[\"Condition\"].append(self.conditions[channel])\n",
    "            self.results[\"Accuracy\"].append(accuracy.item())\n",
    "            self.results[\"F1\"].append(f1.item())\n",
    "            self.results[\"Precision\"].append(precision.item())\n",
    "            self.results[\"Recall\"].append(recall.item())\n",
    "            self.results[\"Specificity\"].append(specificity.item())\n",
    "            \n",
    "\n",
    "        #accuracy = self.test_accuracy(outputs, masks.long())\n",
    "        #dice = self.test_dice(outputs.long(), masks.long())\n",
    "        #f1 = self.test_f1(outputs, masks.long())\n",
    "        #precision = self.test_precision(outputs, masks.long())\n",
    "        #recall = self.test_recall(outputs, masks.long())\n",
    "        #specificity = self.test_specificity(outputs, masks.long())\n",
    "\n",
    "\n",
    "\n",
    "        #self.log('test_accuracy', self.test_accuracy(outputs, masks.long()))\n",
    "        #self.log('test_f1', self.test_f1(outputs, masks.long()))\n",
    "        #self.log('test_precision', self.test_precision(outputs, masks.long()))\n",
    "        #self.log('test_recall', self.test_recall(outputs, masks.long()))\n",
    "        #self.log('test_specificity', self.test_specificity(outputs, masks.long()))\n",
    "        #self.log('test_iou', self.test_iou(outputs.long(), masks.long()))\n",
    "        \n",
    "        return total_loss\n",
    "\n",
    "    def configure_optimizers(self):\n",
    "        optimizer = optim.Adam(self.model.parameters(), lr=self.cfg.lr, weight_decay=self.cfg.weight_decay)\n",
    "        scheduler = optim.lr_scheduler.ReduceLROnPlateau(optimizer, factor=self.cfg.factor, patience=self.cfg.patience_lr)\n",
    "        return {\"optimizer\": optimizer, \n",
    "                \"lr_scheduler\": {'scheduler': scheduler, 'monitor': 'val_loss_total'}}\n",
    "    \n",
    "    def forward(self, x):\n",
    "        return self.model(x)\n",
    "    \n",
    "\n",
    "\n",
    "############################################################################\n",
    "experiment_name = \"Overfit Topcon\"\n",
    "############################################################################\n",
    "    \n",
    "cfg.model_path = cfg.model_path / 'topcon_overfit'\n",
    "\n",
    "model = smp.UnetPlusPlus(**cfg.model_parameters_unetpp)\n",
    "    \n",
    "unetpp = LitUNetPlusPlus(cfg, model, experiment_name=experiment_name)\n",
    "\n",
    "#wandb.finish()\n",
    "wandb_logger = WandbLogger(project=\"PracticalWorkinAI\", name=\"GeneralizedDice Topcon Overfit\")\n",
    "\n",
    "checkpoint_callback = ModelCheckpoint(dirpath=cfg.model_path, monitor='val_loss_total', mode='min')\n",
    "early_stopping = EarlyStopping(monitor='val_loss_total', mode='min')\n",
    "lr_monitor = LearningRateMonitor(logging_interval='step')\n",
    "aggregate_testing_results = AggregateTestingResultsCallback()\n",
    "\n",
    "\n",
    "trainer = L.Trainer(max_epochs=cfg.epochs, \n",
    "                    accumulate_grad_batches=8,\n",
    "                    logger=wandb_logger,\n",
    "                    default_root_dir=Path(cfg.default_root_dir),\n",
    "                    log_every_n_steps=16,\n",
    "                    callbacks=[checkpoint_callback, \n",
    "                               lr_monitor, \n",
    "                               aggregate_testing_results,\n",
    "                               early_stopping],\n",
    "                    deterministic=True)"
   ]
  },
  {
   "cell_type": "code",
   "execution_count": 20,
   "metadata": {},
   "outputs": [
    {
     "name": "stderr",
     "output_type": "stream",
     "text": [
      "/home/moritz/miniconda3/envs/optima/lib/python3.10/site-packages/lightning/pytorch/loggers/wandb.py:396: There is a wandb run already in progress and newly created instances of `WandbLogger` will reuse this run. If this is not desired, call `wandb.finish()` before instantiating `WandbLogger`.\n",
      "LOCAL_RANK: 0 - CUDA_VISIBLE_DEVICES: [0]\n",
      "\n",
      "   | Name             | Type                | Params\n",
      "----------------------------------------------------------\n",
      "0  | model            | UnetPlusPlus        | 41.0 M\n",
      "1  | loss_func1       | GeneralizedDiceLoss | 0     \n",
      "2  | loss_func2       | BCEWithLogitsLoss   | 0     \n",
      "3  | val_accuracy     | BinaryAccuracy      | 0     \n",
      "4  | val_f1           | BinaryF1Score       | 0     \n",
      "5  | val_precision    | BinaryPrecision     | 0     \n",
      "6  | val_recall       | BinaryRecall        | 0     \n",
      "7  | val_specificity  | BinarySpecificity   | 0     \n",
      "8  | test_accuracy    | BinaryAccuracy      | 0     \n",
      "9  | test_f1          | BinaryF1Score       | 0     \n",
      "10 | test_precision   | BinaryPrecision     | 0     \n",
      "11 | test_recall      | BinaryRecall        | 0     \n",
      "12 | test_specificity | BinarySpecificity   | 0     \n",
      "----------------------------------------------------------\n",
      "41.0 M    Trainable params\n",
      "0         Non-trainable params\n",
      "41.0 M    Total params\n",
      "163.976   Total estimated model params size (MB)\n"
     ]
    },
    {
     "data": {
      "application/vnd.jupyter.widget-view+json": {
       "model_id": "b010f7771fc8449cb06f9eec7d6deb8c",
       "version_major": 2,
       "version_minor": 0
      },
      "text/plain": [
       "Sanity Checking: |          | 0/? [00:00<?, ?it/s]"
      ]
     },
     "metadata": {},
     "output_type": "display_data"
    },
    {
     "data": {
      "application/vnd.jupyter.widget-view+json": {
       "model_id": "47f939ed2a0c45179f5cbc000b33e43e",
       "version_major": 2,
       "version_minor": 0
      },
      "text/plain": [
       "Training: |          | 0/? [00:00<?, ?it/s]"
      ]
     },
     "metadata": {},
     "output_type": "display_data"
    },
    {
     "data": {
      "application/vnd.jupyter.widget-view+json": {
       "model_id": "ba6c6a15afb648dea7bca002374729b5",
       "version_major": 2,
       "version_minor": 0
      },
      "text/plain": [
       "Validation: |          | 0/? [00:00<?, ?it/s]"
      ]
     },
     "metadata": {},
     "output_type": "display_data"
    },
    {
     "data": {
      "application/vnd.jupyter.widget-view+json": {
       "model_id": "a98dbeb25bb54ffebb9d9524ba8b23f4",
       "version_major": 2,
       "version_minor": 0
      },
      "text/plain": [
       "Validation: |          | 0/? [00:00<?, ?it/s]"
      ]
     },
     "metadata": {},
     "output_type": "display_data"
    },
    {
     "data": {
      "application/vnd.jupyter.widget-view+json": {
       "model_id": "87407f2c3ef04301acc5e949c637c5b9",
       "version_major": 2,
       "version_minor": 0
      },
      "text/plain": [
       "Validation: |          | 0/? [00:00<?, ?it/s]"
      ]
     },
     "metadata": {},
     "output_type": "display_data"
    },
    {
     "data": {
      "application/vnd.jupyter.widget-view+json": {
       "model_id": "9b8143f9b3c1475b82bae54a979988b9",
       "version_major": 2,
       "version_minor": 0
      },
      "text/plain": [
       "Validation: |          | 0/? [00:00<?, ?it/s]"
      ]
     },
     "metadata": {},
     "output_type": "display_data"
    },
    {
     "data": {
      "application/vnd.jupyter.widget-view+json": {
       "model_id": "93454e9606e648ff8aa9fb4362dee8b2",
       "version_major": 2,
       "version_minor": 0
      },
      "text/plain": [
       "Validation: |          | 0/? [00:00<?, ?it/s]"
      ]
     },
     "metadata": {},
     "output_type": "display_data"
    },
    {
     "data": {
      "application/vnd.jupyter.widget-view+json": {
       "model_id": "5e49f37083324c9e9411a0dfed460fcc",
       "version_major": 2,
       "version_minor": 0
      },
      "text/plain": [
       "Validation: |          | 0/? [00:00<?, ?it/s]"
      ]
     },
     "metadata": {},
     "output_type": "display_data"
    },
    {
     "data": {
      "application/vnd.jupyter.widget-view+json": {
       "model_id": "76abd8678ade4d45ad32354595f10472",
       "version_major": 2,
       "version_minor": 0
      },
      "text/plain": [
       "Validation: |          | 0/? [00:00<?, ?it/s]"
      ]
     },
     "metadata": {},
     "output_type": "display_data"
    },
    {
     "data": {
      "application/vnd.jupyter.widget-view+json": {
       "model_id": "f064ddc2452a411cbe4a387335f7cecf",
       "version_major": 2,
       "version_minor": 0
      },
      "text/plain": [
       "Validation: |          | 0/? [00:00<?, ?it/s]"
      ]
     },
     "metadata": {},
     "output_type": "display_data"
    },
    {
     "data": {
      "application/vnd.jupyter.widget-view+json": {
       "model_id": "6e4076ddf3604941b53fd63afd007888",
       "version_major": 2,
       "version_minor": 0
      },
      "text/plain": [
       "Validation: |          | 0/? [00:00<?, ?it/s]"
      ]
     },
     "metadata": {},
     "output_type": "display_data"
    },
    {
     "data": {
      "application/vnd.jupyter.widget-view+json": {
       "model_id": "3f8a7ad9cade48f3afa270c465467f15",
       "version_major": 2,
       "version_minor": 0
      },
      "text/plain": [
       "Validation: |          | 0/? [00:00<?, ?it/s]"
      ]
     },
     "metadata": {},
     "output_type": "display_data"
    },
    {
     "data": {
      "application/vnd.jupyter.widget-view+json": {
       "model_id": "9ce497ffa21a4bcda84260d0bff42b09",
       "version_major": 2,
       "version_minor": 0
      },
      "text/plain": [
       "Validation: |          | 0/? [00:00<?, ?it/s]"
      ]
     },
     "metadata": {},
     "output_type": "display_data"
    },
    {
     "data": {
      "application/vnd.jupyter.widget-view+json": {
       "model_id": "4ef662a5d34b4ed3b7d281acd5808d2b",
       "version_major": 2,
       "version_minor": 0
      },
      "text/plain": [
       "Validation: |          | 0/? [00:00<?, ?it/s]"
      ]
     },
     "metadata": {},
     "output_type": "display_data"
    },
    {
     "data": {
      "application/vnd.jupyter.widget-view+json": {
       "model_id": "3a39e625b4ba417e9788ea89c82bc751",
       "version_major": 2,
       "version_minor": 0
      },
      "text/plain": [
       "Validation: |          | 0/? [00:00<?, ?it/s]"
      ]
     },
     "metadata": {},
     "output_type": "display_data"
    },
    {
     "data": {
      "application/vnd.jupyter.widget-view+json": {
       "model_id": "3dd07a9e35e24ed59054cc1c2219631c",
       "version_major": 2,
       "version_minor": 0
      },
      "text/plain": [
       "Validation: |          | 0/? [00:00<?, ?it/s]"
      ]
     },
     "metadata": {},
     "output_type": "display_data"
    },
    {
     "data": {
      "application/vnd.jupyter.widget-view+json": {
       "model_id": "7baa04abed5847bc9db99e9363ce2096",
       "version_major": 2,
       "version_minor": 0
      },
      "text/plain": [
       "Validation: |          | 0/? [00:00<?, ?it/s]"
      ]
     },
     "metadata": {},
     "output_type": "display_data"
    },
    {
     "data": {
      "application/vnd.jupyter.widget-view+json": {
       "model_id": "576bae960fbb4040ac15692996e59d5c",
       "version_major": 2,
       "version_minor": 0
      },
      "text/plain": [
       "Validation: |          | 0/? [00:00<?, ?it/s]"
      ]
     },
     "metadata": {},
     "output_type": "display_data"
    },
    {
     "data": {
      "application/vnd.jupyter.widget-view+json": {
       "model_id": "e5f20bace6b44a86b22eff53b648b774",
       "version_major": 2,
       "version_minor": 0
      },
      "text/plain": [
       "Validation: |          | 0/? [00:00<?, ?it/s]"
      ]
     },
     "metadata": {},
     "output_type": "display_data"
    },
    {
     "data": {
      "application/vnd.jupyter.widget-view+json": {
       "model_id": "9f5889c41ae54d538ce86f0c628b7717",
       "version_major": 2,
       "version_minor": 0
      },
      "text/plain": [
       "Validation: |          | 0/? [00:00<?, ?it/s]"
      ]
     },
     "metadata": {},
     "output_type": "display_data"
    },
    {
     "data": {
      "application/vnd.jupyter.widget-view+json": {
       "model_id": "f22deaad103341158d4beec60a2f300b",
       "version_major": 2,
       "version_minor": 0
      },
      "text/plain": [
       "Validation: |          | 0/? [00:00<?, ?it/s]"
      ]
     },
     "metadata": {},
     "output_type": "display_data"
    },
    {
     "data": {
      "application/vnd.jupyter.widget-view+json": {
       "model_id": "3cc115fef5274943a9fc5524ca553e74",
       "version_major": 2,
       "version_minor": 0
      },
      "text/plain": [
       "Validation: |          | 0/? [00:00<?, ?it/s]"
      ]
     },
     "metadata": {},
     "output_type": "display_data"
    },
    {
     "data": {
      "application/vnd.jupyter.widget-view+json": {
       "model_id": "86138fb8cf5640c099d7e968ad4455f6",
       "version_major": 2,
       "version_minor": 0
      },
      "text/plain": [
       "Validation: |          | 0/? [00:00<?, ?it/s]"
      ]
     },
     "metadata": {},
     "output_type": "display_data"
    },
    {
     "data": {
      "application/vnd.jupyter.widget-view+json": {
       "model_id": "a132c1f1f6964ce9ac6f517d0085eaf3",
       "version_major": 2,
       "version_minor": 0
      },
      "text/plain": [
       "Validation: |          | 0/? [00:00<?, ?it/s]"
      ]
     },
     "metadata": {},
     "output_type": "display_data"
    },
    {
     "data": {
      "application/vnd.jupyter.widget-view+json": {
       "model_id": "fcd48ddf48b943faa2a8c135c74389dd",
       "version_major": 2,
       "version_minor": 0
      },
      "text/plain": [
       "Validation: |          | 0/? [00:00<?, ?it/s]"
      ]
     },
     "metadata": {},
     "output_type": "display_data"
    },
    {
     "data": {
      "application/vnd.jupyter.widget-view+json": {
       "model_id": "9bad6699a1ca42b48fca93b398213ce8",
       "version_major": 2,
       "version_minor": 0
      },
      "text/plain": [
       "Validation: |          | 0/? [00:00<?, ?it/s]"
      ]
     },
     "metadata": {},
     "output_type": "display_data"
    },
    {
     "data": {
      "application/vnd.jupyter.widget-view+json": {
       "model_id": "71eb9069eebe429b9023061cfde75a29",
       "version_major": 2,
       "version_minor": 0
      },
      "text/plain": [
       "Validation: |          | 0/? [00:00<?, ?it/s]"
      ]
     },
     "metadata": {},
     "output_type": "display_data"
    },
    {
     "data": {
      "application/vnd.jupyter.widget-view+json": {
       "model_id": "5fb9b27ff2c34745af9781cf79ef2d6b",
       "version_major": 2,
       "version_minor": 0
      },
      "text/plain": [
       "Validation: |          | 0/? [00:00<?, ?it/s]"
      ]
     },
     "metadata": {},
     "output_type": "display_data"
    },
    {
     "data": {
      "application/vnd.jupyter.widget-view+json": {
       "model_id": "93db34e778cf4587abd2e711e7e5a7c6",
       "version_major": 2,
       "version_minor": 0
      },
      "text/plain": [
       "Validation: |          | 0/? [00:00<?, ?it/s]"
      ]
     },
     "metadata": {},
     "output_type": "display_data"
    },
    {
     "data": {
      "application/vnd.jupyter.widget-view+json": {
       "model_id": "555df8c3a87746b0997dcffb8f4ba743",
       "version_major": 2,
       "version_minor": 0
      },
      "text/plain": [
       "Validation: |          | 0/? [00:00<?, ?it/s]"
      ]
     },
     "metadata": {},
     "output_type": "display_data"
    },
    {
     "data": {
      "application/vnd.jupyter.widget-view+json": {
       "model_id": "5622a249a9b2452b8422342dcbd94ed0",
       "version_major": 2,
       "version_minor": 0
      },
      "text/plain": [
       "Validation: |          | 0/? [00:00<?, ?it/s]"
      ]
     },
     "metadata": {},
     "output_type": "display_data"
    },
    {
     "data": {
      "application/vnd.jupyter.widget-view+json": {
       "model_id": "9500541cfc604507bbd49f10208589d6",
       "version_major": 2,
       "version_minor": 0
      },
      "text/plain": [
       "Validation: |          | 0/? [00:00<?, ?it/s]"
      ]
     },
     "metadata": {},
     "output_type": "display_data"
    },
    {
     "name": "stderr",
     "output_type": "stream",
     "text": [
      "LOCAL_RANK: 0 - CUDA_VISIBLE_DEVICES: [0]\n"
     ]
    },
    {
     "data": {
      "application/vnd.jupyter.widget-view+json": {
       "model_id": "ba751e93fc7e44e69ce9dd3b56715bf1",
       "version_major": 2,
       "version_minor": 0
      },
      "text/plain": [
       "Testing: |          | 0/? [00:00<?, ?it/s]"
      ]
     },
     "metadata": {},
     "output_type": "display_data"
    },
    {
     "name": "stdout",
     "output_type": "stream",
     "text": [
      "+----------------------------------+----------------------+-----------------------+---------------------+----------------------+-----------------------+----------------------+---------------------+-----------------------+-------------------------+------------------------+--------------------+\n",
      "|                                  | ('Accuracy', 'mean') |  ('Accuracy', 'std')  |   ('F1', 'mean')    |    ('F1', 'std')     | ('Precision', 'mean') | ('Precision', 'std') | ('Recall', 'mean')  |   ('Recall', 'std')   | ('Specificity', 'mean') | ('Specificity', 'std') | ('Model', 'first') |\n",
      "+----------------------------------+----------------------+-----------------------+---------------------+----------------------+-----------------------+----------------------+---------------------+-----------------------+-------------------------+------------------------+--------------------+\n",
      "| ('Overfit Topcon', 'Background') |  0.9893923785235431  |  0.02136851540209535  | 0.9945442579888009  | 0.011127109475560162 |  0.9893990497331362   | 0.021359283662794052 | 0.9999822825998873  | 5.521964859846214e-05 |  0.007284524019514966   |  0.01803810779084462   |   Overfit Topcon   |\n",
      "|    ('Overfit Topcon', 'IRF')     |  0.9981110031540329  | 0.0037441982326745895 | 0.08990791622247245 | 0.20448227357262114  |  0.1458198116035075   |  0.3073677521687894  | 0.08295775466674082 |  0.20109177952948618  |    0.999307216824712    | 0.0017628136922161503  |   Overfit Topcon   |\n",
      "|    ('Overfit Topcon', 'PED')     |  0.9931163478542019  | 0.018652201863850144  | 0.09624433316089012 | 0.19288366415203434  |  0.15523244561375799  |  0.286393776538905   | 0.08242609949933516 |  0.18105490605431768  |    0.999057590639269    | 0.0018743962878123126  |   Overfit Topcon   |\n",
      "|    ('Overfit Topcon', 'SRD')     |  0.9984387784390836  | 0.003927084897560931  | 0.06111040117370116 | 0.17156130544390535  |  0.09753550508537807  |  0.2638314347094455  | 0.05658631985251968 |  0.1655563472036863   |   0.9994601301244788    |  0.001480219074497092  |   Overfit Topcon   |\n",
      "+----------------------------------+----------------------+-----------------------+---------------------+----------------------+-----------------------+----------------------+---------------------+-----------------------+-------------------------+------------------------+--------------------+\n",
      "────────────────────────────────────────────────────────────────────────────────────────────────────────────────────────\n",
      "       Test metric             DataLoader 0\n",
      "────────────────────────────────────────────────────────────────────────────────────────────────────────────────────────\n",
      "      test_loss_ce         0.030074045062065125\n",
      "     test_loss_dice          0.398693323135376\n",
      "     test_loss_total        0.4137301743030548\n",
      "────────────────────────────────────────────────────────────────────────────────────────────────────────────────────────\n"
     ]
    },
    {
     "data": {
      "text/plain": [
       "[{'test_loss_total': 0.4137301743030548,\n",
       "  'test_loss_dice': 0.398693323135376,\n",
       "  'test_loss_ce': 0.030074045062065125}]"
      ]
     },
     "execution_count": 20,
     "metadata": {},
     "output_type": "execute_result"
    }
   ],
   "source": [
    "trainer.fit(unetpp, train_dataloaders=train_loader, val_dataloaders=val_loader)\n",
    "trainer.test(unetpp, dataloaders=val_loader)"
   ]
  },
  {
   "cell_type": "markdown",
   "metadata": {},
   "source": []
  },
  {
   "cell_type": "markdown",
   "metadata": {},
   "source": [
    "## Visualization and results"
   ]
  },
  {
   "cell_type": "markdown",
   "metadata": {},
   "source": [
    "### Visualize some images and masks"
   ]
  },
  {
   "cell_type": "code",
   "execution_count": 7,
   "metadata": {},
   "outputs": [],
   "source": [
    "print_some_imgs = False\n",
    "\n",
    "if print_some_imgs:\n",
    "    \n",
    "    transforms_visualize = Compose([cfg.train_transforms, ImageVisualizer(keys=['img', 'label', 'masks'])])\n",
    "    train_data_raw, _, _ = OCTDatasetPrep(cfg.train_dir, source_domains=cfg.source_domains).get_datasets(use_official_testset=False)\n",
    "    train_data = MakeDataset(train_data_raw, transforms_visualize)\n",
    "\n",
    "\n",
    "    for i in range(4):\n",
    " \n",
    "        rand_num = np.random.randint(0, len(train_data))\n",
    "        sample = train_data[rand_num]\n",
    "        print(f\"Sample {i+1}\", \n",
    "              \"\\nImg: \", sample['img'].shape,\n",
    "              \"\\nLabel: \", sample['label'].shape,\n",
    "              \"\\nMasks: \", sample['masks'].shape)\n",
    "\n",
    "\n"
   ]
  },
  {
   "cell_type": "markdown",
   "metadata": {},
   "source": [
    "### Load model and make predictions on random images from validation set"
   ]
  },
  {
   "cell_type": "code",
   "execution_count": 8,
   "metadata": {},
   "outputs": [
    {
     "name": "stdout",
     "output_type": "stream",
     "text": [
      "['untrained_baseline.ckpt']\n"
     ]
    }
   ],
   "source": [
    "model_checkpoints = os.listdir(cfg.model_path)\n",
    "print(model_checkpoints)"
   ]
  },
  {
   "cell_type": "code",
   "execution_count": 9,
   "metadata": {},
   "outputs": [],
   "source": [
    "get_predictions = False\n",
    "\n",
    "if get_predictions:\n",
    "    model = LitUNetPlusPlus.load_from_checkpoint(checkpoint_path = cfg.model_path / model_checkpoints[0])\n",
    "    model.eval()\n",
    "\n",
    "    for i in range(np.min([5, len(val_dataset)])):\n",
    "        rand_num = np.random.randint(0, len(val_dataset))\n",
    "        sample = val_dataset[rand_num]\n",
    "\n",
    "        img = sample['img'].unsqueeze(0).to(cfg.device)\n",
    "        mask = sample['masks'].unsqueeze(0).to(cfg.device)\n",
    "\n",
    "        pred = model(img)\n",
    "        pred = torch.sigmoid(pred)\n",
    "        \n",
    "        # thresholding\n",
    "        pred[pred > 0.5] = 1\n",
    "        pred[pred <= 0.5] = 0\n",
    "\n",
    "        plot_img_label_pred(img, pred, mask)"
   ]
  },
  {
   "cell_type": "code",
   "execution_count": 10,
   "metadata": {},
   "outputs": [
    {
     "data": {
      "application/vnd.jupyter.widget-view+json": {
       "model_id": "2fea8962758740628714e8e3eb4d279b",
       "version_major": 2,
       "version_minor": 0
      },
      "text/plain": [
       "  0%|          | 0/1 [00:00<?, ?it/s]"
      ]
     },
     "metadata": {},
     "output_type": "display_data"
    },
    {
     "data": {
      "application/vnd.jupyter.widget-view+json": {
       "model_id": "6ef8d94bd7b04916a77194683669d7f9",
       "version_major": 2,
       "version_minor": 0
      },
      "text/plain": [
       "  0%|          | 0/1 [00:00<?, ?it/s]"
      ]
     },
     "metadata": {},
     "output_type": "display_data"
    },
    {
     "data": {
      "application/vnd.jupyter.widget-view+json": {
       "model_id": "5a4a026310b6487aaf5b5e93eb627ff6",
       "version_major": 2,
       "version_minor": 0
      },
      "text/plain": [
       "  0%|          | 0/1 [00:00<?, ?it/s]"
      ]
     },
     "metadata": {},
     "output_type": "display_data"
    },
    {
     "data": {
      "application/vnd.jupyter.widget-view+json": {
       "model_id": "5e9cc6b4b7c24f9f901024d8ff1670e4",
       "version_major": 2,
       "version_minor": 0
      },
      "text/plain": [
       "  0%|          | 0/1 [00:00<?, ?it/s]"
      ]
     },
     "metadata": {},
     "output_type": "display_data"
    }
   ],
   "source": [
    "\n",
    "#model = LitUNetPlusPlus.load_from_checkpoint(checkpoint_path = cfg.model_path / model_checkpoints[0])\n",
    "#table.append(make_results_table(model, val_dataset, cfg.device, cfg, 'ImageNet pretrained'))\n",
    "\n",
    "#model = LitUNetPlusPlus.load_from_checkpoint(checkpoint_path = cfg.model_path / model_checkpoints[0])\n",
    "#table.append(make_results_table(model, val_dataset, cfg.device, cfg, 'Supervised training'))\n",
    "\n",
    "#model = LitUNetPlusPlus.load_from_checkpoint(checkpoint_path = cfg.model_path / model_checkpoints[0])\n",
    "#table.append(make_results_table(model, val_dataset, cfg.device, cfg, 'SVDNA source: Spectralis'))\n",
    "\n",
    "#model = LitUNetPlusPlus.load_from_checkpoint(checkpoint_path = cfg.model_path / model_checkpoints[0])\n",
    "#table.append(make_results_table(model, val_dataset, cfg.device, cfg, 'SVDNA source: Cirrus'))"
   ]
  },
  {
   "cell_type": "code",
   "execution_count": 11,
   "metadata": {},
   "outputs": [
    {
     "name": "stdout",
     "output_type": "stream",
     "text": [
      "|             |           | Model   | IRF      | SRF         | PED      |\n",
      "|-------------|-----------|---------|----------|-------------|----------|\n",
      "| dice_scores | precision | recall  | accuracy | specificity | f1 score |\n",
      "| dice_scores | precision | recall  | accuracy | specificity | f1 score |\n",
      "| dice_scores | precision | recall  | accuracy | specificity | f1 score |\n",
      "| dice_scores | precision | recall  | accuracy | specificity | f1 score |\n"
     ]
    }
   ],
   "source": [
    "# save variable table to text file\n",
    "#print(tabulate(table, headers='firstrow', tablefmt='github'))\n",
    "#with open('results.txt', 'w') as f:\n",
    "#    f.write(tabulate(table, headers='firstrow', tablefmt='latex_raw'))"
   ]
  },
  {
   "cell_type": "code",
   "execution_count": 9,
   "metadata": {},
   "outputs": [
    {
     "data": {
      "image/png": "[encoded data removed]",
      "text/plain": [
       "<Figure size 1000x500 with 1 Axes>"
      ]
     },
     "metadata": {},
     "output_type": "display_data"
    }
   ],
   "source": [
    "# make a barplot with three bars, one for each class\n",
    "\n",
    "'''fig, ax = plt.subplots(figsize=(10, 5))\n",
    "\n",
    "x = np.arange(3)\n",
    "width = 0.15\n",
    "\n",
    "for i, model in enumerate(table[1:]):\n",
    "    ax.bar(x + i*width, model[1:], 0.15, label=model[0])\n",
    "\n",
    "ax.set_xticks(x + width*1.5)\n",
    "#ax.set_yticks(np.arange(0, 1.1, 0.1))\n",
    "ax.set_xticklabels(['IRF', 'SRF', 'PED'])\n",
    "ax.set_ylabel('Dice score')\n",
    "ax.set_title('Mean dice score for each class')\n",
    "\n",
    "ax.legend()\n",
    "plt.show()'''"
   ]
  },
  {
   "cell_type": "code",
   "execution_count": null,
   "metadata": {},
   "outputs": [],
   "source": []
  }
 ],
 "metadata": {
  "kernelspec": {
   "display_name": "Python 3 (ipykernel)",
   "language": "python",
   "name": "python3"
  },
  "language_info": {
   "codemirror_mode": {
    "name": "ipython",
    "version": 3
   },
   "file_extension": ".py",
   "mimetype": "text/x-python",
   "name": "python",
   "nbconvert_exporter": "python",
   "pygments_lexer": "ipython3",
   "version": "3.9.16"
  }
 },
 "nbformat": 4,
 "nbformat_minor": 4
}

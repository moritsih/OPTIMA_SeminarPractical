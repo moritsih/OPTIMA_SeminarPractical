{
 "cells": [
  {
   "cell_type": "code",
   "execution_count": 1,
   "metadata": {},
   "outputs": [
    {
     "name": "stderr",
     "output_type": "stream",
     "text": [
      "Seed set to 99\n"
     ]
    }
   ],
   "source": [
    "\n",
    "import torch\n",
    "import torch\n",
    "from torch.utils.data import DataLoader\n",
    "import pandas as pd\n",
    "import glob\n",
    "\n",
    "import segmentation_models_pytorch as smp\n",
    "\n",
    "import lightning as L\n",
    "from lightning.pytorch import Trainer, seed_everything\n",
    "from lightning.pytorch.loggers import WandbLogger\n",
    "\n",
    "from lightning_module import LitUNetPlusPlus\n",
    "from config import Config\n",
    "from dataset import *\n",
    "import wandb\n",
    "import seaborn as sns\n",
    "\n",
    "import monai\n",
    "from monai.transforms import *\n",
    "\n",
    "from tabulate import tabulate\n",
    "import matplotlib.pyplot as plt\n",
    "\n",
    "seed_everything(99, workers=True)\n",
    "\n",
    "from lightning.pytorch.plugins.environments import SLURMEnvironment\n",
    "SLURMEnvironment.detect = lambda: False\n"
   ]
  },
  {
   "cell_type": "code",
   "execution_count": 2,
   "metadata": {},
   "outputs": [],
   "source": [
    "cfg = Config(experiment_name = \"Untrained\")"
   ]
  },
  {
   "cell_type": "code",
   "execution_count": 10,
   "metadata": {},
   "outputs": [
    {
     "ename": "IndexError",
     "evalue": "list index out of range",
     "output_type": "error",
     "traceback": [
      "\u001b[0;31m---------------------------------------------------------------------------\u001b[0m",
      "\u001b[0;31mIndexError\u001b[0m                                Traceback (most recent call last)",
      "Cell \u001b[0;32mIn[10], line 2\u001b[0m\n\u001b[1;32m      1\u001b[0m experiment_folder \u001b[38;5;241m=\u001b[39m Path\u001b[38;5;241m.\u001b[39mcwd() \u001b[38;5;241m/\u001b[39m \u001b[38;5;124m\"\u001b[39m\u001b[38;5;124mmodels\u001b[39m\u001b[38;5;124m\"\u001b[39m \u001b[38;5;241m/\u001b[39m cfg\u001b[38;5;241m.\u001b[39mexperiment_name\n\u001b[0;32m----> 2\u001b[0m checkpoint \u001b[38;5;241m=\u001b[39m \u001b[38;5;28;43mlist\u001b[39;49m\u001b[43m(\u001b[49m\u001b[43mexperiment_folder\u001b[49m\u001b[38;5;241;43m.\u001b[39;49m\u001b[43mglob\u001b[49m\u001b[43m(\u001b[49m\u001b[38;5;124;43m\"\u001b[39;49m\u001b[38;5;124;43m*.ckpt\u001b[39;49m\u001b[38;5;124;43m\"\u001b[39;49m\u001b[43m)\u001b[49m\u001b[43m)\u001b[49m\u001b[43m[\u001b[49m\u001b[38;5;241;43m0\u001b[39;49m\u001b[43m]\u001b[49m\n\u001b[1;32m      3\u001b[0m checkpoint\n",
      "\u001b[0;31mIndexError\u001b[0m: list index out of range"
     ]
    }
   ],
   "source": [
    "experiment_folder = Path.cwd() / \"models\" / cfg.experiment_name\n",
    "checkpoint = list(experiment_folder.glob(\"*.ckpt\"))[0]\n",
    "checkpoint"
   ]
  },
  {
   "cell_type": "markdown",
   "metadata": {},
   "source": [
    "## Run experiments"
   ]
  },
  {
   "cell_type": "code",
   "execution_count": 9,
   "metadata": {},
   "outputs": [
    {
     "name": "stdout",
     "output_type": "stream",
     "text": [
      "Total dataset length:  2288\n",
      "Training set: 1271\n",
      "Validation set: 676\n",
      "Test set: 341\n"
     ]
    }
   ],
   "source": [
    "#cfg.source_domains = [\"Cirrus\", \"Topcon\", \"Spectralis\"]\n",
    "#cfg.source_domains = [\"Spectralis\"]\n",
    "#cfg.source_domains = [\"Cirrus\"]\n",
    "#cfg.source_domains = [\"Topcon\"]\n",
    "cfg.source_domains = [\"Topcon\", \"Spectralis\"]\n",
    "ds = OCTDatasetPrep(cfg.train_dir, source_domains = cfg.source_domains)\n",
    "\n",
    "# .get_datasets method handles splitting and which test set to use (a custom one that is split from\n",
    "# the training set, or the official challenge testset)\n",
    "train_data, val_data, test_data = ds.get_datasets(dataset_split=[0.7, 0.2, 0.1], use_official_testset=False)\n",
    "\n",
    "# MakeDataset is a class that handles the actual dataset creation, including transforms\n",
    "train_dataset = MakeDataset(train_data, cfg.train_transforms)\n",
    "val_dataset = MakeDataset(val_data, cfg.val_transforms)\n",
    "test_dataset = MakeDataset(test_data, cfg.test_transforms)"
   ]
  },
  {
   "cell_type": "code",
   "execution_count": null,
   "metadata": {},
   "outputs": [],
   "source": [
    "def run_experiment(\n",
    "        source_domains, \n",
    "        experiment_name,\n",
    "        batch_size=8,\n",
    "        cfg=cfg):\n",
    "    \n",
    "    # DEFINE EXPERIMENT PARAMETERS\n",
    "    ####################################################################################\n",
    "    cfg.source_domains = source_domains\n",
    "\n",
    "\n",
    "    cfg.experiment_name = experiment_name\n",
    "    # experiment name defines the names for:\n",
    "        # - the model\n",
    "        # - the results file\n",
    "        # - the wandb run\n",
    "    ####################################################################################\n",
    "\n",
    "\n",
    "    cfg.batch_size = batch_size\n",
    "    cfg.epochs = 150\n",
    "\n",
    "    # OCTDatasetPrep is a class that performs all necessary sorting and filtering of the dataset\n",
    "    ds = OCTDatasetPrep(cfg.train_dir, source_domains = cfg.source_domains)\n",
    "\n",
    "    # .get_datasets method handles splitting and which test set to use (a custom one that is split from\n",
    "    # the training set, or the official challenge testset)\n",
    "    train_data, val_data, test_data = ds.get_datasets(dataset_split=[0.8, 0.2], use_official_testset=True)\n",
    "\n",
    "    # MakeDataset is a class that handles the actual dataset creation, including transforms\n",
    "    train_dataset = MakeDataset(train_data, cfg.train_transforms)\n",
    "    val_dataset = MakeDataset(val_data, cfg.val_transforms)\n",
    "    test_dataset = MakeDataset(test_data, cfg.test_transforms)\n",
    "\n",
    "    train_loader = DataLoader(train_dataset, batch_size=cfg.batch_size, shuffle=True, num_workers=7, persistent_workers=True)\n",
    "    val_loader = DataLoader(val_dataset, batch_size=cfg.batch_size, shuffle=False, num_workers=7, persistent_workers=True)\n",
    "    test_loader = DataLoader(test_dataset, batch_size=cfg.batch_size, shuffle=False, num_workers=7, persistent_workers=True)\n",
    "\n",
    "\n",
    "    wandb_logger = WandbLogger(project=\"PracticalWorkinAI\", \n",
    "                            name=cfg.experiment_name)\n",
    "\n",
    "\n",
    "    # model is the actual model from segmentation_models_pytorch\n",
    "    model = smp.UnetPlusPlus(**cfg.model_parameters_unetpp)\n",
    "\n",
    "    # LitUnetPlusPlus is the lightning module defined in lightning_module.py\n",
    "    unetpp = LitUNetPlusPlus(cfg, model, experiment_name=cfg.experiment_name)\n",
    "\n",
    "    trainer = L.Trainer(max_epochs=cfg.epochs,\n",
    "                        logger=wandb_logger,\n",
    "                        default_root_dir=Path(cfg.default_root_dir),\n",
    "                        log_every_n_steps=10,\n",
    "                        deterministic=True,\n",
    "                        callbacks=[cfg.checkpoint_callback, # saves best model based on validation loss, every 5 epochs\n",
    "                                  cfg.lr_monitor, \n",
    "                                  #cfg.save_initial_model,\n",
    "                                  cfg.early_stopping, # stops training if validation loss does not improve for 20 epochs\n",
    "                                  cfg.aggregate_testing_results])\n",
    "\n",
    "\n",
    "    #trainer.fit(unetpp, train_dataloaders=train_loader, val_dataloaders=val_loader)\n",
    "    #trainer.test(unetpp, dataloaders=test_loader)\n",
    "    #wandb.finish\n"
   ]
  },
  {
   "cell_type": "code",
   "execution_count": null,
   "metadata": {},
   "outputs": [],
   "source": [
    "cfg.experiments = [\n",
    "    {\n",
    "        \"source_domains\": [\"Spectralis\", \"Topcon\", \"Cirrus\"],\n",
    "        \"experiment_name\": \"FullySupervised\"\n",
    "    },\n",
    "    {\n",
    "        \"source_domains\": [\"Spectralis\"],\n",
    "        \"experiment_name\": \"Spectralis\"\n",
    "    },\n",
    "    {\n",
    "        \"source_domains\": [\"Topcon\"],\n",
    "        \"experiment_name\": \"Topcon\"\n",
    "    },\n",
    "    {\n",
    "        \"source_domains\": [\"Cirrus\"],\n",
    "        \"experiment_name\": \"Cirrus\"\n",
    "    },\n",
    "    {\n",
    "        \"source_domains\": [\"Spectralis\", \"Topcon\"],\n",
    "        \"experiment_name\": \"SpectralisTopcon\"\n",
    "    }\n",
    "]\n",
    "\n",
    "for experiment in cfg.experiments:\n",
    "    run_experiment(experiment[\"source_domains\"], experiment[\"experiment_name\"])"
   ]
  },
  {
   "cell_type": "code",
   "execution_count": 5,
   "metadata": {},
   "outputs": [
    {
     "data": {
      "text/plain": [
       "['/home/optima/mhaderer/OPTIMA_Masterarbeit/practical/models/Supervised',\n",
       " '/home/optima/mhaderer/OPTIMA_Masterarbeit/practical/models/Spectralis-Topcon',\n",
       " '/home/optima/mhaderer/OPTIMA_Masterarbeit/practical/models/Spectralis-Cirrus',\n",
       " '/home/optima/mhaderer/OPTIMA_Masterarbeit/practical/models/Topcon-Cirrus',\n",
       " '/home/optima/mhaderer/OPTIMA_Masterarbeit/practical/models/Spectralis-Topcon-noSVDNA',\n",
       " '/home/optima/mhaderer/OPTIMA_Masterarbeit/practical/models/Spectralis-Cirrus-noSVDNA',\n",
       " '/home/optima/mhaderer/OPTIMA_Masterarbeit/practical/models/Topcon-Cirrus-noSVDNA',\n",
       " '/home/optima/mhaderer/OPTIMA_Masterarbeit/practical/models/Spectralis',\n",
       " '/home/optima/mhaderer/OPTIMA_Masterarbeit/practical/models/Topcon',\n",
       " '/home/optima/mhaderer/OPTIMA_Masterarbeit/practical/models/Cirrus']"
      ]
     },
     "execution_count": 5,
     "metadata": {},
     "output_type": "execute_result"
    }
   ],
   "source": [
    "experiments = glob.glob(f\"{cfg.model_path}/*\")\n",
    "experiments"
   ]
  },
  {
   "cell_type": "markdown",
   "metadata": {},
   "source": [
    "### Test all models on the test set"
   ]
  },
  {
   "cell_type": "code",
   "execution_count": null,
   "metadata": {},
   "outputs": [],
   "source": [
    "# OCTDatasetPrep is a class that performs all necessary sorting and filtering of the dataset\n",
    "ds = OCTDatasetPrep(cfg.train_dir, source_domains = cfg.source_domains)\n",
    "\n",
    "# .get_datasets method handles splitting and which test set to use (a custom one that is split from\n",
    "# the training set, or the official challenge testset)\n",
    "_, _, test_data = ds.get_datasets(dataset_split=[0.8, 0.2], use_official_testset=True)\n",
    "\n",
    "# MakeDataset is a class that handles the actual dataset creation, including transforms\n",
    "test_dataset = MakeDataset(test_data, cfg.test_transforms)\n",
    "\n",
    "test_loader = DataLoader(test_dataset, batch_size=cfg.batch_size, shuffle=False, num_workers=7, persistent_workers=True)"
   ]
  },
  {
   "cell_type": "code",
   "execution_count": 7,
   "metadata": {},
   "outputs": [
    {
     "name": "stdout",
     "output_type": "stream",
     "text": [
      "/home/optima/mhaderer/OPTIMA_Masterarbeit/practical/models/Supervised/self.experiment_name=0-epoch=84-val_loss_total=0.247-val_precision=0.874.ckpt\n"
     ]
    }
   ],
   "source": [
    "test_all_models = True\n",
    "\n",
    "if test_all_models:\n",
    "    \n",
    "    # find all folders with checkpoints\n",
    "    experiments = [os.path.basename(exp) for exp in glob.glob(f\"{cfg.model_path}/*\")]\n",
    "\n",
    "    for exp in experiments:\n",
    "        \n",
    "        checkpoint = list(Path(cfg.model_path / exp).glob(\"*.ckpt\"))[0]\n",
    "\n",
    "        wandb_logger = WandbLogger(project=\"PracticalWorkinAI\", group=\"Testing\", name=exp)\n",
    "\n",
    "        model = LitUNetPlusPlus.load_from_checkpoint(checkpoint_path = checkpoint, experiment_name=exp)\n",
    "    \n",
    "        trainer = L.Trainer(max_epochs=cfg.epochs,\n",
    "                            logger=wandb_logger,\n",
    "                            default_root_dir=Path(cfg.default_root_dir),\n",
    "                            log_every_n_steps=10,\n",
    "                            callbacks=[cfg.checkpoint_callback, # saves best model based on validation loss, every 5 epochs\n",
    "                                       cfg.lr_monitor, \n",
    "                                       cfg.aggregate_testing_results],\n",
    "                            deterministic=True)\n",
    "        \n",
    "        test_loader = DataLoader(test_dataset, batch_size=cfg.batch_size, shuffle=False, num_workers=7, persistent_workers=True)\n",
    "        \n",
    "        trainer.test(model, dataloaders=test_loader)\n",
    "        wandb.finish()"
   ]
  },
  {
   "cell_type": "markdown",
   "metadata": {},
   "source": [
    "## Visualization and results"
   ]
  },
  {
   "cell_type": "markdown",
   "metadata": {},
   "source": [
    "#### Load model and make predictions on random images from validation set"
   ]
  },
  {
   "cell_type": "code",
   "execution_count": 7,
   "metadata": {},
   "outputs": [
    {
     "data": {
      "text/plain": [
       "['spectralis-no-svdna-epoch=139-val_loss_total=0.302-val_precision=0.851.ckpt',\n",
       " 'supervised-epoch=134-val_loss_total=0.26-val_precision=0.85.ckpt',\n",
       " 'initial_model.ckpt',\n",
       " 'spectr-epoch=139-val_loss_total=0.29-val_precision=0.84.ckpt']"
      ]
     },
     "execution_count": 7,
     "metadata": {},
     "output_type": "execute_result"
    }
   ],
   "source": [
    "experiments = [os.path.basename(exp) for exp in glob.glob(f\"{cfg.model_path}/*\")]\n",
    "experiments"
   ]
  },
  {
   "cell_type": "code",
   "execution_count": 82,
   "metadata": {},
   "outputs": [
    {
     "ename": "IndexError",
     "evalue": "list index out of range",
     "output_type": "error",
     "traceback": [
      "\u001b[0;31m---------------------------------------------------------------------------\u001b[0m",
      "\u001b[0;31mIndexError\u001b[0m                                Traceback (most recent call last)",
      "Cell \u001b[0;32mIn[82], line 7\u001b[0m\n\u001b[1;32m      4\u001b[0m \u001b[38;5;28;01mwith\u001b[39;00m torch\u001b[38;5;241m.\u001b[39mno_grad():\n\u001b[1;32m      5\u001b[0m     \u001b[38;5;28;01mif\u001b[39;00m get_predictions:\n\u001b[0;32m----> 7\u001b[0m         checkpoint \u001b[38;5;241m=\u001b[39m \u001b[38;5;28mstr\u001b[39m(\u001b[38;5;28;43mlist\u001b[39;49m\u001b[43m(\u001b[49m\u001b[43mPath\u001b[49m\u001b[43m(\u001b[49m\u001b[43mcfg\u001b[49m\u001b[38;5;241;43m.\u001b[39;49m\u001b[43mmodel_path\u001b[49m\u001b[43m \u001b[49m\u001b[38;5;241;43m/\u001b[39;49m\u001b[43m \u001b[49m\u001b[43mexperiment_for_prediction\u001b[49m\u001b[43m)\u001b[49m\u001b[38;5;241;43m.\u001b[39;49m\u001b[43mglob\u001b[49m\u001b[43m(\u001b[49m\u001b[38;5;124;43m\"\u001b[39;49m\u001b[38;5;124;43m*.ckpt\u001b[39;49m\u001b[38;5;124;43m\"\u001b[39;49m\u001b[43m)\u001b[49m\u001b[43m)\u001b[49m\u001b[43m[\u001b[49m\u001b[38;5;241;43m0\u001b[39;49m\u001b[43m]\u001b[49m)\n\u001b[1;32m      8\u001b[0m         model \u001b[38;5;241m=\u001b[39m LitUNetPlusPlus\u001b[38;5;241m.\u001b[39mload_from_checkpoint(checkpoint_path \u001b[38;5;241m=\u001b[39m checkpoint, \n\u001b[1;32m      9\u001b[0m                                                      experiment_name\u001b[38;5;241m=\u001b[39mexperiment_for_prediction)\n\u001b[1;32m     10\u001b[0m         model\u001b[38;5;241m.\u001b[39meval()\n",
      "\u001b[0;31mIndexError\u001b[0m: list index out of range"
     ]
    }
   ],
   "source": [
    "get_predictions = True\n",
    "\n",
    "experiment_for_prediction = \"Supervised\"\n",
    "with torch.no_grad():\n",
    "    if get_predictions:\n",
    "\n",
    "        checkpoint = list(Path(cfg.model_path / experiment_for_prediction).glob(\"*.ckpt\"))[0]\n",
    "        model = LitUNetPlusPlus.load_from_checkpoint(checkpoint_path = checkpoint, \n",
    "                                                     experiment_name=experiment_for_prediction)\n",
    "        model.eval()\n",
    "\n",
    "        for i in range(np.min([3, len(val_dataset)])):\n",
    "            rand_num = np.random.randint(0, len(val_dataset))\n",
    "            sample = val_dataset[rand_num]\n",
    "\n",
    "            img = sample['img'].unsqueeze(0).to(cfg.device)\n",
    "            mask = sample['masks'].unsqueeze(0).to(cfg.device)\n",
    "\n",
    "            pred = model(img)\n",
    "            pred = torch.sigmoid(pred)\n",
    "            \n",
    "            # thresholding\n",
    "            pred[pred > 0.5] = 1\n",
    "            pred[pred <= 0.5] = 0\n",
    "\n",
    "            plot_img_label_pred(img, pred, mask)"
   ]
  },
  {
   "cell_type": "markdown",
   "metadata": {},
   "source": [
    "#### Visualize some images and masks"
   ]
  },
  {
   "cell_type": "code",
   "execution_count": null,
   "metadata": {},
   "outputs": [],
   "source": [
    "print_some_imgs = False\n",
    "\n",
    "if print_some_imgs:\n",
    "    \n",
    "    # ImageVisualizer shows images post-transformation\n",
    "    transforms_visualize = Compose([cfg.train_transforms, ImageVisualizer(keys=['img', 'label', 'masks'])])\n",
    "    train_data_raw, _, _ = OCTDatasetPrep(cfg.train_dir, source_domains=cfg.source_domains).get_datasets(use_official_testset=False)\n",
    "    train_data = MakeDataset(train_data_raw, transforms_visualize)\n",
    "\n",
    "\n",
    "    for i in range(2):\n",
    " \n",
    "        rand_num = np.random.randint(0, len(train_data))\n",
    "        sample = train_data[rand_num]\n",
    "        print(f\"Sample {i+1}\", \n",
    "              \"\\nImg: \", sample['img'].shape,\n",
    "              \"\\nLabel: \", sample['label'].shape,\n",
    "              \"\\nMasks: \", sample['masks'].shape)\n",
    "\n",
    "\n"
   ]
  },
  {
   "cell_type": "markdown",
   "metadata": {},
   "source": [
    "#### Create results tables from saved csv"
   ]
  },
  {
   "cell_type": "code",
   "execution_count": 16,
   "metadata": {},
   "outputs": [],
   "source": [
    "single_domains = [\n",
    "    \"Spectralis\",\n",
    "    \"Topcon\",\n",
    "    \"Cirrus\"\n",
    "]\n",
    "\n",
    "mean_normal = [\n",
    "    \"Spectralis-Cirrus-val\",\n",
    "    \"Topcon-Cirrus-val\",\n",
    "    \"Spectralis-Topcon-val\"\n",
    "]\n",
    "mean_nosvdna = [\n",
    "    \"Spectralis-Cirrus-noSVDNA-val\",\n",
    "    \"Spectralis-Topcon-noSVDNA-val\",\n",
    "    \"Topcon-Cirrus-noSVDNA-val\"\n",
    "]\n",
    "\n",
    "ablation = [\n",
    "    \"Spectralis-Cirrus-HistmatchingOnly\",\n",
    "    \"Spectralis-Cirrus-NoiseAdaptOnly\",\n",
    "    \"Spectralis-Cirrus\",\n",
    "    \"Supervised\"\n",
    "]"
   ]
  },
  {
   "cell_type": "code",
   "execution_count": 17,
   "metadata": {},
   "outputs": [],
   "source": [
    "\n",
    "# Get the path to the \"results\" folder\n",
    "results_folder = os.path.join(os.getcwd(), \"results\")\n",
    "\n",
    "# Get all files in the \"results\" folder that match the pattern \"results_mean_*.csv\"\n",
    "file_list = glob.glob(os.path.join(results_folder, \"*/results_*.csv\"), recursive=True)\n",
    "file_list = [f for f in file_list if \"-val\" in f]\n",
    "# Load each file into a pandas DataFrame and concatenate them\n",
    "dfs = []\n",
    "for file in file_list:\n",
    "    file_path = os.path.join(results_folder, file)\n",
    "    df = pd.read_csv(file_path, index_col=0)\n",
    "    dfs.append(df)\n",
    "\n",
    "result = pd.concat(dfs)\n",
    "\n",
    "result = result[result[\"Task\"] != \"Background\"]\n",
    "\n",
    "# change all rows with task \"SRD\" to \"SRF\"\n",
    "result.loc[result[\"Task\"] == \"SRD\", \"Task\"] = \"SRF\""
   ]
  },
  {
   "cell_type": "code",
   "execution_count": 18,
   "metadata": {},
   "outputs": [],
   "source": [
    "all_models = list(reversed([\n",
    "    \"Supervised\",\n",
    "    \"Spectralis-Cirrus\",\n",
    "    \"Topcon-Cirrus\",\n",
    "    \"Spectralis-Topcon\",\n",
    "    \"Spectralis-Cirrus-noSVDNA\",\n",
    "    \"Spectralis-Topcon-noSVDNA\",\n",
    "    \"Topcon-Cirrus-noSVDNA\",\n",
    "    \"Spectralis\",\n",
    "    \"Topcon\",\n",
    "    \"Cirrus\",\n",
    "    \"Untrained\"\n",
    "]))"
   ]
  },
  {
   "cell_type": "code",
   "execution_count": 8,
   "metadata": {},
   "outputs": [],
   "source": [
    "result_tbl = result.drop(columns=[\"F1\", \"Specificity\"])\n",
    "result_tbl = result_tbl.groupby([\"Task\", \"Model\"]).mean()\n",
    "numeric_only = result_tbl.select_dtypes(include=[np.number])\n",
    "result_tbl[numeric_only.columns] = numeric_only.round(3)\n",
    "# order models like in list \"all_models\"\n",
    "result_tbl = result_tbl.reindex(all_models, level=1)\n",
    "result_tbl.to_latex(\"results_table.tex\")"
   ]
  },
  {
   "cell_type": "code",
   "execution_count": 20,
   "metadata": {},
   "outputs": [
    {
     "name": "stderr",
     "output_type": "stream",
     "text": [
      "/Users/moritz/miniconda3/envs/optima/lib/python3.9/site-packages/seaborn/_oldcore.py:1119: FutureWarning: use_inf_as_na option is deprecated and will be removed in a future version. Convert inf values to NaN before operating instead.\n",
      "  with pd.option_context('mode.use_inf_as_na', True):\n",
      "/Users/moritz/miniconda3/envs/optima/lib/python3.9/site-packages/seaborn/_oldcore.py:1075: FutureWarning: When grouping with a length-1 list-like, you will need to pass a length-1 tuple to get_group in a future version of pandas. Pass `(name,)` instead of `name` to silence this warning.\n",
      "  data_subset = grouped_data.get_group(pd_key)\n",
      "/Users/moritz/miniconda3/envs/optima/lib/python3.9/site-packages/seaborn/_oldcore.py:1075: FutureWarning: When grouping with a length-1 list-like, you will need to pass a length-1 tuple to get_group in a future version of pandas. Pass `(name,)` instead of `name` to silence this warning.\n",
      "  data_subset = grouped_data.get_group(pd_key)\n",
      "/Users/moritz/miniconda3/envs/optima/lib/python3.9/site-packages/seaborn/_oldcore.py:1075: FutureWarning: When grouping with a length-1 list-like, you will need to pass a length-1 tuple to get_group in a future version of pandas. Pass `(name,)` instead of `name` to silence this warning.\n",
      "  data_subset = grouped_data.get_group(pd_key)\n",
      "/Users/moritz/miniconda3/envs/optima/lib/python3.9/site-packages/seaborn/_oldcore.py:1075: FutureWarning: When grouping with a length-1 list-like, you will need to pass a length-1 tuple to get_group in a future version of pandas. Pass `(name,)` instead of `name` to silence this warning.\n",
      "  data_subset = grouped_data.get_group(pd_key)\n",
      "/Users/moritz/miniconda3/envs/optima/lib/python3.9/site-packages/seaborn/_oldcore.py:1075: FutureWarning: When grouping with a length-1 list-like, you will need to pass a length-1 tuple to get_group in a future version of pandas. Pass `(name,)` instead of `name` to silence this warning.\n",
      "  data_subset = grouped_data.get_group(pd_key)\n",
      "/Users/moritz/miniconda3/envs/optima/lib/python3.9/site-packages/seaborn/_oldcore.py:1119: FutureWarning: use_inf_as_na option is deprecated and will be removed in a future version. Convert inf values to NaN before operating instead.\n",
      "  with pd.option_context('mode.use_inf_as_na', True):\n",
      "/Users/moritz/miniconda3/envs/optima/lib/python3.9/site-packages/seaborn/_oldcore.py:1075: FutureWarning: When grouping with a length-1 list-like, you will need to pass a length-1 tuple to get_group in a future version of pandas. Pass `(name,)` instead of `name` to silence this warning.\n",
      "  data_subset = grouped_data.get_group(pd_key)\n",
      "/Users/moritz/miniconda3/envs/optima/lib/python3.9/site-packages/seaborn/_oldcore.py:1075: FutureWarning: When grouping with a length-1 list-like, you will need to pass a length-1 tuple to get_group in a future version of pandas. Pass `(name,)` instead of `name` to silence this warning.\n",
      "  data_subset = grouped_data.get_group(pd_key)\n",
      "/Users/moritz/miniconda3/envs/optima/lib/python3.9/site-packages/seaborn/_oldcore.py:1075: FutureWarning: When grouping with a length-1 list-like, you will need to pass a length-1 tuple to get_group in a future version of pandas. Pass `(name,)` instead of `name` to silence this warning.\n",
      "  data_subset = grouped_data.get_group(pd_key)\n",
      "/Users/moritz/miniconda3/envs/optima/lib/python3.9/site-packages/seaborn/_oldcore.py:1075: FutureWarning: When grouping with a length-1 list-like, you will need to pass a length-1 tuple to get_group in a future version of pandas. Pass `(name,)` instead of `name` to silence this warning.\n",
      "  data_subset = grouped_data.get_group(pd_key)\n",
      "/Users/moritz/miniconda3/envs/optima/lib/python3.9/site-packages/seaborn/_oldcore.py:1075: FutureWarning: When grouping with a length-1 list-like, you will need to pass a length-1 tuple to get_group in a future version of pandas. Pass `(name,)` instead of `name` to silence this warning.\n",
      "  data_subset = grouped_data.get_group(pd_key)\n",
      "/Users/moritz/miniconda3/envs/optima/lib/python3.9/site-packages/seaborn/_oldcore.py:1119: FutureWarning: use_inf_as_na option is deprecated and will be removed in a future version. Convert inf values to NaN before operating instead.\n",
      "  with pd.option_context('mode.use_inf_as_na', True):\n",
      "/Users/moritz/miniconda3/envs/optima/lib/python3.9/site-packages/seaborn/_oldcore.py:1075: FutureWarning: When grouping with a length-1 list-like, you will need to pass a length-1 tuple to get_group in a future version of pandas. Pass `(name,)` instead of `name` to silence this warning.\n",
      "  data_subset = grouped_data.get_group(pd_key)\n",
      "/Users/moritz/miniconda3/envs/optima/lib/python3.9/site-packages/seaborn/_oldcore.py:1075: FutureWarning: When grouping with a length-1 list-like, you will need to pass a length-1 tuple to get_group in a future version of pandas. Pass `(name,)` instead of `name` to silence this warning.\n",
      "  data_subset = grouped_data.get_group(pd_key)\n",
      "/Users/moritz/miniconda3/envs/optima/lib/python3.9/site-packages/seaborn/_oldcore.py:1075: FutureWarning: When grouping with a length-1 list-like, you will need to pass a length-1 tuple to get_group in a future version of pandas. Pass `(name,)` instead of `name` to silence this warning.\n",
      "  data_subset = grouped_data.get_group(pd_key)\n",
      "/Users/moritz/miniconda3/envs/optima/lib/python3.9/site-packages/seaborn/_oldcore.py:1075: FutureWarning: When grouping with a length-1 list-like, you will need to pass a length-1 tuple to get_group in a future version of pandas. Pass `(name,)` instead of `name` to silence this warning.\n",
      "  data_subset = grouped_data.get_group(pd_key)\n",
      "/Users/moritz/miniconda3/envs/optima/lib/python3.9/site-packages/seaborn/_oldcore.py:1075: FutureWarning: When grouping with a length-1 list-like, you will need to pass a length-1 tuple to get_group in a future version of pandas. Pass `(name,)` instead of `name` to silence this warning.\n",
      "  data_subset = grouped_data.get_group(pd_key)\n"
     ]
    },
    {
     "data": {
      "image/png": "[encoded data removed]",
      "text/plain": [
       "<Figure size 2000x500 with 3 Axes>"
      ]
     },
     "metadata": {},
     "output_type": "display_data"
    }
   ],
   "source": [
    "# plot a histogram of F1 in result\n",
    "fig, ax = plt.subplots(1 , 3, figsize=(20, 5))\n",
    "sns.histplot(result[result[\"Model\"] == \"Supervised-val\"], x=\"F1\", hue=\"Task\", multiple=\"stack\", bins=20, ax=ax[0])\n",
    "ax[0].set_title(\"Supervised\")\n",
    "sns.histplot(result[result[\"Model\"] == \"Spectralis-Cirrus-val\"], x=\"F1\", hue=\"Task\", multiple=\"stack\", bins=20, ax=ax[1])\n",
    "ax[1].set_title(\"Spectralis-Cirrus\")\n",
    "sns.histplot(result[result[\"Model\"] == \"Spectralis-Cirrus-noSVDNA-val\"], x=\"F1\", hue=\"Task\", multiple=\"stack\", bins=20, ax=ax[2])\n",
    "ax[2].set_title(\"Spectralis-Cirrus without SVDNA\")\n",
    "\n",
    "# remove y axis labels and reduce  title size\n",
    "for a in ax:\n",
    "    a.set_ylabel(\"\")\n",
    "    a.set_xlabel(\"\")\n",
    "    a.title.set_size(15)\n",
    "ax[0].set_ylabel(\"Count\")\n",
    "ax[1].set_xlabel(\"Dice\")\n",
    "\n",
    "plt.show()"
   ]
  },
  {
   "cell_type": "code",
   "execution_count": 14,
   "metadata": {},
   "outputs": [
    {
     "data": {
      "text/html": [
       "<div>\n",
       "<style scoped>\n",
       "    .dataframe tbody tr th:only-of-type {\n",
       "        vertical-align: middle;\n",
       "    }\n",
       "\n",
       "    .dataframe tbody tr th {\n",
       "        vertical-align: top;\n",
       "    }\n",
       "\n",
       "    .dataframe thead th {\n",
       "        text-align: right;\n",
       "    }\n",
       "</style>\n",
       "<table border=\"1\" class=\"dataframe\">\n",
       "  <thead>\n",
       "    <tr style=\"text-align: right;\">\n",
       "      <th></th>\n",
       "      <th>Model</th>\n",
       "      <th>F1</th>\n",
       "    </tr>\n",
       "  </thead>\n",
       "  <tbody>\n",
       "    <tr>\n",
       "      <th>0</th>\n",
       "      <td>Supervised-val</td>\n",
       "      <td>0.836 (0.11)</td>\n",
       "    </tr>\n",
       "  </tbody>\n",
       "</table>\n",
       "</div>"
      ],
      "text/plain": [
       "            Model            F1\n",
       "0  Supervised-val  0.836 (0.11)"
      ]
     },
     "execution_count": 14,
     "metadata": {},
     "output_type": "execute_result"
    }
   ],
   "source": [
    "supervised = result[result[\"Model\"] == \"Supervised-val\"]\n",
    "x = supervised.groupby([\"Task\", \"Model\"]).mean().reset_index()\n",
    "y = supervised.groupby([\"Task\", \"Model\"]).std().reset_index()\n",
    "\n",
    "# only get columns Task, Model and F1\n",
    "y = y[[\"Task\", \"Model\", \"F1\"]]\n",
    "x = x[[\"Task\", \"Model\", \"F1\"]]\n",
    "x = x.groupby([\"Model\"]).mean(numeric_only=True).reset_index()\n",
    "y = y.groupby([\"Model\"]).mean(numeric_only=True).reset_index()\n",
    "\n",
    "# combine F1 column of x and y like \"x (y)\"\n",
    "x[\"F1\"] = x[\"F1\"].round(3).astype(str) + \" (\" + y[\"F1\"].round(2).astype(str) + \")\"\n",
    "x"
   ]
  },
  {
   "cell_type": "code",
   "execution_count": 20,
   "metadata": {},
   "outputs": [
    {
     "data": {
      "text/html": [
       "<div>\n",
       "<style scoped>\n",
       "    .dataframe tbody tr th:only-of-type {\n",
       "        vertical-align: middle;\n",
       "    }\n",
       "\n",
       "    .dataframe tbody tr th {\n",
       "        vertical-align: top;\n",
       "    }\n",
       "\n",
       "    .dataframe thead th {\n",
       "        text-align: right;\n",
       "    }\n",
       "</style>\n",
       "<table border=\"1\" class=\"dataframe\">\n",
       "  <thead>\n",
       "    <tr style=\"text-align: right;\">\n",
       "      <th></th>\n",
       "      <th>Model</th>\n",
       "      <th>F1</th>\n",
       "    </tr>\n",
       "  </thead>\n",
       "  <tbody>\n",
       "    <tr>\n",
       "      <th>0</th>\n",
       "      <td>Untrained</td>\n",
       "      <td>0.003 (0.01)</td>\n",
       "    </tr>\n",
       "  </tbody>\n",
       "</table>\n",
       "</div>"
      ],
      "text/plain": [
       "       Model            F1\n",
       "0  Untrained  0.003 (0.01)"
      ]
     },
     "execution_count": 20,
     "metadata": {},
     "output_type": "execute_result"
    }
   ],
   "source": [
    "untrained = result[result[\"Model\"] == \"Untrained\"]\n",
    "x = untrained.groupby([\"Task\", \"Model\"]).mean().reset_index()\n",
    "y = untrained.groupby([\"Task\", \"Model\"]).std().reset_index()\n",
    "\n",
    "# only get columns Task, Model and F1\n",
    "y = y[[\"Task\", \"Model\", \"F1\"]]\n",
    "x = x[[\"Task\", \"Model\", \"F1\"]]\n",
    "x = x.groupby([\"Model\"]).mean(numeric_only=True).reset_index()\n",
    "y = y.groupby([\"Model\"]).mean(numeric_only=True).reset_index()\n",
    "\n",
    "# combine F1 column of x and y like \"x (y)\"\n",
    "x[\"F1\"] = x[\"F1\"].round(3).astype(str) + \" (\" + y[\"F1\"].round(2).astype(str) + \")\"\n",
    "x"
   ]
  },
  {
   "cell_type": "code",
   "execution_count": 26,
   "metadata": {},
   "outputs": [
    {
     "data": {
      "text/html": [
       "<div>\n",
       "<style scoped>\n",
       "    .dataframe tbody tr th:only-of-type {\n",
       "        vertical-align: middle;\n",
       "    }\n",
       "\n",
       "    .dataframe tbody tr th {\n",
       "        vertical-align: top;\n",
       "    }\n",
       "\n",
       "    .dataframe thead th {\n",
       "        text-align: right;\n",
       "    }\n",
       "</style>\n",
       "<table border=\"1\" class=\"dataframe\">\n",
       "  <thead>\n",
       "    <tr style=\"text-align: right;\">\n",
       "      <th></th>\n",
       "      <th>Model</th>\n",
       "      <th>F1</th>\n",
       "    </tr>\n",
       "  </thead>\n",
       "  <tbody>\n",
       "    <tr>\n",
       "      <th>0</th>\n",
       "      <td>Spectralis-Cirrus-val</td>\n",
       "      <td>0.833 (0.15)</td>\n",
       "    </tr>\n",
       "    <tr>\n",
       "      <th>1</th>\n",
       "      <td>Spectralis-Topcon-val</td>\n",
       "      <td>0.826 (0.11)</td>\n",
       "    </tr>\n",
       "    <tr>\n",
       "      <th>2</th>\n",
       "      <td>Topcon-Cirrus-val</td>\n",
       "      <td>0.811 (0.13)</td>\n",
       "    </tr>\n",
       "  </tbody>\n",
       "</table>\n",
       "</div>"
      ],
      "text/plain": [
       "                   Model            F1\n",
       "0  Spectralis-Cirrus-val  0.833 (0.15)\n",
       "1  Spectralis-Topcon-val  0.826 (0.11)\n",
       "2      Topcon-Cirrus-val  0.811 (0.13)"
      ]
     },
     "execution_count": 26,
     "metadata": {},
     "output_type": "execute_result"
    }
   ],
   "source": [
    "svdna = result[result[\"Model\"].isin(mean_normal)]\n",
    "x = svdna.groupby([\"Task\", \"Model\"]).mean().reset_index()\n",
    "y = svdna.groupby([\"Task\", \"Model\"]).std().reset_index()\n",
    "\n",
    "# only get columns Task, Model and F1\n",
    "y = y[[\"Task\", \"Model\", \"F1\"]]\n",
    "x = x[[\"Task\", \"Model\", \"F1\"]]\n",
    "x = x.groupby([\"Model\"]).mean(numeric_only=True).reset_index()\n",
    "y = y.groupby([\"Model\"]).mean(numeric_only=True).reset_index()\n",
    "\n",
    "# combine F1 column of x and y like \"x (y)\"\n",
    "x[\"F1\"] = x[\"F1\"].round(3).astype(str) + \" (\" + y[\"F1\"].round(2).astype(str) + \")\"\n",
    "x"
   ]
  },
  {
   "cell_type": "code",
   "execution_count": 25,
   "metadata": {},
   "outputs": [
    {
     "data": {
      "text/html": [
       "<div>\n",
       "<style scoped>\n",
       "    .dataframe tbody tr th:only-of-type {\n",
       "        vertical-align: middle;\n",
       "    }\n",
       "\n",
       "    .dataframe tbody tr th {\n",
       "        vertical-align: top;\n",
       "    }\n",
       "\n",
       "    .dataframe thead th {\n",
       "        text-align: right;\n",
       "    }\n",
       "</style>\n",
       "<table border=\"1\" class=\"dataframe\">\n",
       "  <thead>\n",
       "    <tr style=\"text-align: right;\">\n",
       "      <th></th>\n",
       "      <th>Model</th>\n",
       "      <th>F1</th>\n",
       "    </tr>\n",
       "  </thead>\n",
       "  <tbody>\n",
       "    <tr>\n",
       "      <th>0</th>\n",
       "      <td>Spectralis-Cirrus-noSVDNA-val</td>\n",
       "      <td>0.837 (0.15)</td>\n",
       "    </tr>\n",
       "    <tr>\n",
       "      <th>1</th>\n",
       "      <td>Spectralis-Topcon-noSVDNA-val</td>\n",
       "      <td>0.827 (0.12)</td>\n",
       "    </tr>\n",
       "    <tr>\n",
       "      <th>2</th>\n",
       "      <td>Topcon-Cirrus-noSVDNA-val</td>\n",
       "      <td>0.818 (0.13)</td>\n",
       "    </tr>\n",
       "  </tbody>\n",
       "</table>\n",
       "</div>"
      ],
      "text/plain": [
       "                           Model            F1\n",
       "0  Spectralis-Cirrus-noSVDNA-val  0.837 (0.15)\n",
       "1  Spectralis-Topcon-noSVDNA-val  0.827 (0.12)\n",
       "2      Topcon-Cirrus-noSVDNA-val  0.818 (0.13)"
      ]
     },
     "execution_count": 25,
     "metadata": {},
     "output_type": "execute_result"
    }
   ],
   "source": [
    "no_svdna = result[result[\"Model\"].isin(mean_nosvdna)]\n",
    "x = no_svdna.groupby([\"Task\", \"Model\"]).mean().reset_index()\n",
    "y = no_svdna.groupby([\"Task\", \"Model\"]).std().reset_index()\n",
    "\n",
    "# only get columns Task, Model and F1\n",
    "y = y[[\"Task\", \"Model\", \"F1\"]]\n",
    "x = x[[\"Task\", \"Model\", \"F1\"]]\n",
    "x = x.groupby([\"Model\"]).mean(numeric_only=True).reset_index()\n",
    "y = y.groupby([\"Model\"]).mean(numeric_only=True).reset_index()\n",
    "\n",
    "# combine F1 column of x and y like \"x (y)\"\n",
    "x[\"F1\"] = x[\"F1\"].round(3).astype(str) + \" (\" + y[\"F1\"].round(2).astype(str) + \")\"\n",
    "x\n"
   ]
  },
  {
   "cell_type": "code",
   "execution_count": 14,
   "metadata": {},
   "outputs": [
    {
     "data": {
      "text/html": [
       "<div>\n",
       "<style scoped>\n",
       "    .dataframe tbody tr th:only-of-type {\n",
       "        vertical-align: middle;\n",
       "    }\n",
       "\n",
       "    .dataframe tbody tr th {\n",
       "        vertical-align: top;\n",
       "    }\n",
       "\n",
       "    .dataframe thead th {\n",
       "        text-align: right;\n",
       "    }\n",
       "</style>\n",
       "<table border=\"1\" class=\"dataframe\">\n",
       "  <thead>\n",
       "    <tr style=\"text-align: right;\">\n",
       "      <th></th>\n",
       "      <th>Task</th>\n",
       "      <th>Model</th>\n",
       "      <th>F1</th>\n",
       "    </tr>\n",
       "  </thead>\n",
       "  <tbody>\n",
       "    <tr>\n",
       "      <th>0</th>\n",
       "      <td>IRF</td>\n",
       "      <td>Cirrus</td>\n",
       "      <td>0.244 (0.35)</td>\n",
       "    </tr>\n",
       "    <tr>\n",
       "      <th>1</th>\n",
       "      <td>IRF</td>\n",
       "      <td>Spectralis</td>\n",
       "      <td>0.187 (0.3)</td>\n",
       "    </tr>\n",
       "    <tr>\n",
       "      <th>2</th>\n",
       "      <td>IRF</td>\n",
       "      <td>Topcon</td>\n",
       "      <td>0.234 (0.33)</td>\n",
       "    </tr>\n",
       "    <tr>\n",
       "      <th>3</th>\n",
       "      <td>PED</td>\n",
       "      <td>Cirrus</td>\n",
       "      <td>0.15 (0.28)</td>\n",
       "    </tr>\n",
       "    <tr>\n",
       "      <th>4</th>\n",
       "      <td>PED</td>\n",
       "      <td>Spectralis</td>\n",
       "      <td>0.078 (0.2)</td>\n",
       "    </tr>\n",
       "    <tr>\n",
       "      <th>5</th>\n",
       "      <td>PED</td>\n",
       "      <td>Topcon</td>\n",
       "      <td>0.137 (0.26)</td>\n",
       "    </tr>\n",
       "    <tr>\n",
       "      <th>6</th>\n",
       "      <td>SRF</td>\n",
       "      <td>Cirrus</td>\n",
       "      <td>0.183 (0.34)</td>\n",
       "    </tr>\n",
       "    <tr>\n",
       "      <th>7</th>\n",
       "      <td>SRF</td>\n",
       "      <td>Spectralis</td>\n",
       "      <td>0.101 (0.23)</td>\n",
       "    </tr>\n",
       "    <tr>\n",
       "      <th>8</th>\n",
       "      <td>SRF</td>\n",
       "      <td>Topcon</td>\n",
       "      <td>0.16 (0.3)</td>\n",
       "    </tr>\n",
       "  </tbody>\n",
       "</table>\n",
       "</div>"
      ],
      "text/plain": [
       "  Task       Model            F1\n",
       "0  IRF      Cirrus  0.244 (0.35)\n",
       "1  IRF  Spectralis   0.187 (0.3)\n",
       "2  IRF      Topcon  0.234 (0.33)\n",
       "3  PED      Cirrus   0.15 (0.28)\n",
       "4  PED  Spectralis   0.078 (0.2)\n",
       "5  PED      Topcon  0.137 (0.26)\n",
       "6  SRF      Cirrus  0.183 (0.34)\n",
       "7  SRF  Spectralis  0.101 (0.23)\n",
       "8  SRF      Topcon    0.16 (0.3)"
      ]
     },
     "execution_count": 14,
     "metadata": {},
     "output_type": "execute_result"
    }
   ],
   "source": [
    "single = result[result[\"Model\"].isin(single_domains)]\n",
    "x = single.groupby([\"Task\", \"Model\"]).mean().reset_index()\n",
    "y = single.groupby([\"Task\", \"Model\"]).std().reset_index()\n",
    "\n",
    "# only get columns Task, Model and F1\n",
    "y = y[[\"Task\", \"Model\", \"F1\"]]\n",
    "x = x[[\"Task\", \"Model\", \"F1\"]]\n",
    "#x = x.groupby([\"Model\"]).mean(numeric_only=True).reset_index()\n",
    "y = y.groupby([\"Model\"]).mean(numeric_only=True).reset_index()\n",
    "\n",
    "# combine F1 column of x and y like \"x (y)\"\n",
    "x[\"F1\"] = x[\"F1\"].round(3).astype(str) + \" (\" + y[\"F1\"].round(2).astype(str) + \")\"\n",
    "x"
   ]
  },
  {
   "cell_type": "code",
   "execution_count": 15,
   "metadata": {},
   "outputs": [],
   "source": [
    "sup = supervised[[\"Task\", \"Model\", \"F1\"]]\n",
    "svd = svdna[[\"Task\", \"Model\", \"F1\"]]\n",
    "\n"
   ]
  },
  {
   "cell_type": "code",
   "execution_count": 17,
   "metadata": {},
   "outputs": [
    {
     "data": {
      "text/html": [
       "<div>\n",
       "<style scoped>\n",
       "    .dataframe tbody tr th:only-of-type {\n",
       "        vertical-align: middle;\n",
       "    }\n",
       "\n",
       "    .dataframe tbody tr th {\n",
       "        vertical-align: top;\n",
       "    }\n",
       "\n",
       "    .dataframe thead th {\n",
       "        text-align: right;\n",
       "    }\n",
       "</style>\n",
       "<table border=\"1\" class=\"dataframe\">\n",
       "  <thead>\n",
       "    <tr style=\"text-align: right;\">\n",
       "      <th></th>\n",
       "      <th>Model</th>\n",
       "      <th>F1</th>\n",
       "    </tr>\n",
       "  </thead>\n",
       "  <tbody>\n",
       "    <tr>\n",
       "      <th>0</th>\n",
       "      <td>Spectralis-Cirrus</td>\n",
       "      <td>0.21 (0.34)</td>\n",
       "    </tr>\n",
       "    <tr>\n",
       "      <th>1</th>\n",
       "      <td>Spectralis-Cirrus-HistmatchingOnly</td>\n",
       "      <td>0.211 (0.34)</td>\n",
       "    </tr>\n",
       "    <tr>\n",
       "      <th>2</th>\n",
       "      <td>Spectralis-Cirrus-NoiseAdaptOnly</td>\n",
       "      <td>0.182 (0.31)</td>\n",
       "    </tr>\n",
       "    <tr>\n",
       "      <th>3</th>\n",
       "      <td>Supervised</td>\n",
       "      <td>0.216 (0.34)</td>\n",
       "    </tr>\n",
       "  </tbody>\n",
       "</table>\n",
       "</div>"
      ],
      "text/plain": [
       "                                Model            F1\n",
       "0                   Spectralis-Cirrus   0.21 (0.34)\n",
       "1  Spectralis-Cirrus-HistmatchingOnly  0.211 (0.34)\n",
       "2    Spectralis-Cirrus-NoiseAdaptOnly  0.182 (0.31)\n",
       "3                          Supervised  0.216 (0.34)"
      ]
     },
     "execution_count": 17,
     "metadata": {},
     "output_type": "execute_result"
    }
   ],
   "source": [
    "single = result[result[\"Model\"].isin(ablation)]\n",
    "x = single.groupby([\"Task\", \"Model\"]).mean().reset_index()\n",
    "y = single.groupby([\"Task\", \"Model\"]).std().reset_index()\n",
    "\n",
    "# only get columns Task, Model and F1\n",
    "y = y[[\"Task\", \"Model\", \"F1\"]]\n",
    "x = x[[\"Task\", \"Model\", \"F1\"]]\n",
    "x = x.groupby([\"Model\"]).mean(numeric_only=True).reset_index()\n",
    "y = y.groupby([\"Model\"]).mean(numeric_only=True).reset_index()\n",
    "\n",
    "# combine F1 column of x and y like \"x (y)\"\n",
    "x[\"F1\"] = x[\"F1\"].round(3).astype(str) + \" (\" + y[\"F1\"].round(2).astype(str) + \")\"\n",
    "x"
   ]
  },
  {
   "cell_type": "code",
   "execution_count": null,
   "metadata": {},
   "outputs": [],
   "source": []
  }
 ],
 "metadata": {
  "kernelspec": {
   "display_name": "Python 3 (ipykernel)",
   "language": "python",
   "name": "python3"
  },
  "language_info": {
   "codemirror_mode": {
    "name": "ipython",
    "version": 3
   },
   "file_extension": ".py",
   "mimetype": "text/x-python",
   "name": "python",
   "nbconvert_exporter": "python",
   "pygments_lexer": "ipython3",
   "version": "3.9.16"
  }
 },
 "nbformat": 4,
 "nbformat_minor": 4
}
